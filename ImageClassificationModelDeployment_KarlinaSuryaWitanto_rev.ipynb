{
  "nbformat": 4,
  "nbformat_minor": 5,
  "metadata": {
    "accelerator": "GPU",
    "colab": {
      "name": "ImageClassificationModelDeployment_KarlinaSuryaWitanto_rev.ipynb",
      "provenance": []
    },
    "kernelspec": {
      "display_name": "Python 3",
      "language": "python",
      "name": "python3"
    },
    "language_info": {
      "codemirror_mode": {
        "name": "ipython",
        "version": 3
      },
      "file_extension": ".py",
      "mimetype": "text/x-python",
      "name": "python",
      "nbconvert_exporter": "python",
      "pygments_lexer": "ipython3",
      "version": "3.7.4"
    },
    "varInspector": {
      "cols": {
        "lenName": 16,
        "lenType": 16,
        "lenVar": 40
      },
      "kernels_config": {
        "python": {
          "delete_cmd_postfix": "",
          "delete_cmd_prefix": "del ",
          "library": "var_list.py",
          "varRefreshCmd": "print(var_dic_list())"
        },
        "r": {
          "delete_cmd_postfix": ") ",
          "delete_cmd_prefix": "rm(",
          "library": "var_list.r",
          "varRefreshCmd": "cat(var_dic_list()) "
        }
      },
      "types_to_exclude": [
        "module",
        "function",
        "builtin_function_or_method",
        "instance",
        "_Feature"
      ],
      "window_display": false
    },
    "widgets": {
      "application/vnd.jupyter.widget-state+json": {
        "15799191fd20437698eb7331b934dac0": {
          "model_module": "@jupyter-widgets/controls",
          "model_name": "HBoxModel",
          "model_module_version": "1.5.0",
          "state": {
            "_view_name": "HBoxView",
            "_dom_classes": [],
            "_model_name": "HBoxModel",
            "_view_module": "@jupyter-widgets/controls",
            "_model_module_version": "1.5.0",
            "_view_count": null,
            "_view_module_version": "1.5.0",
            "box_style": "",
            "layout": "IPY_MODEL_5bd99721ab3b4be89403b6fc4852a6b7",
            "_model_module": "@jupyter-widgets/controls",
            "children": [
              "IPY_MODEL_e68d0ebcc2fe4ce7bc597fb81eae8541",
              "IPY_MODEL_17439bf948ad4a93982889c9dfd97545",
              "IPY_MODEL_c478a04fefb74fb19644ebcb61328341"
            ]
          }
        },
        "5bd99721ab3b4be89403b6fc4852a6b7": {
          "model_module": "@jupyter-widgets/base",
          "model_name": "LayoutModel",
          "model_module_version": "1.2.0",
          "state": {
            "_view_name": "LayoutView",
            "grid_template_rows": null,
            "right": null,
            "justify_content": null,
            "_view_module": "@jupyter-widgets/base",
            "overflow": null,
            "_model_module_version": "1.2.0",
            "_view_count": null,
            "flex_flow": null,
            "width": null,
            "min_width": null,
            "border": null,
            "align_items": null,
            "bottom": null,
            "_model_module": "@jupyter-widgets/base",
            "top": null,
            "grid_column": null,
            "overflow_y": null,
            "overflow_x": null,
            "grid_auto_flow": null,
            "grid_area": null,
            "grid_template_columns": null,
            "flex": null,
            "_model_name": "LayoutModel",
            "justify_items": null,
            "grid_row": null,
            "max_height": null,
            "align_content": null,
            "visibility": null,
            "align_self": null,
            "height": null,
            "min_height": null,
            "padding": null,
            "grid_auto_rows": null,
            "grid_gap": null,
            "max_width": null,
            "order": null,
            "_view_module_version": "1.2.0",
            "grid_template_areas": null,
            "object_position": null,
            "object_fit": null,
            "grid_auto_columns": null,
            "margin": null,
            "display": null,
            "left": null
          }
        },
        "e68d0ebcc2fe4ce7bc597fb81eae8541": {
          "model_module": "@jupyter-widgets/controls",
          "model_name": "HTMLModel",
          "model_module_version": "1.5.0",
          "state": {
            "_view_name": "HTMLView",
            "style": "IPY_MODEL_48f9e228d0274da78d1e970af03e499e",
            "_dom_classes": [],
            "description": "",
            "_model_name": "HTMLModel",
            "placeholder": "​",
            "_view_module": "@jupyter-widgets/controls",
            "_model_module_version": "1.5.0",
            "value": "100%",
            "_view_count": null,
            "_view_module_version": "1.5.0",
            "description_tooltip": null,
            "_model_module": "@jupyter-widgets/controls",
            "layout": "IPY_MODEL_d1ac84eb7d274f5e94bd340d80c6a0e9"
          }
        },
        "17439bf948ad4a93982889c9dfd97545": {
          "model_module": "@jupyter-widgets/controls",
          "model_name": "FloatProgressModel",
          "model_module_version": "1.5.0",
          "state": {
            "_view_name": "ProgressView",
            "style": "IPY_MODEL_07451b2080644a20966f6454bf323682",
            "_dom_classes": [],
            "description": "",
            "_model_name": "FloatProgressModel",
            "bar_style": "success",
            "max": 3600,
            "_view_module": "@jupyter-widgets/controls",
            "_model_module_version": "1.5.0",
            "value": 3600,
            "_view_count": null,
            "_view_module_version": "1.5.0",
            "orientation": "horizontal",
            "min": 0,
            "description_tooltip": null,
            "_model_module": "@jupyter-widgets/controls",
            "layout": "IPY_MODEL_dbc5fc3bd29a4e2c97b846574c7bc387"
          }
        },
        "c478a04fefb74fb19644ebcb61328341": {
          "model_module": "@jupyter-widgets/controls",
          "model_name": "HTMLModel",
          "model_module_version": "1.5.0",
          "state": {
            "_view_name": "HTMLView",
            "style": "IPY_MODEL_60383886b87c4ba1afb60eaa29f0742b",
            "_dom_classes": [],
            "description": "",
            "_model_name": "HTMLModel",
            "placeholder": "​",
            "_view_module": "@jupyter-widgets/controls",
            "_model_module_version": "1.5.0",
            "value": " 3600/3600 [00:07&lt;00:00, 560.12it/s]",
            "_view_count": null,
            "_view_module_version": "1.5.0",
            "description_tooltip": null,
            "_model_module": "@jupyter-widgets/controls",
            "layout": "IPY_MODEL_aa091580db12496da66c33c8948c742f"
          }
        },
        "48f9e228d0274da78d1e970af03e499e": {
          "model_module": "@jupyter-widgets/controls",
          "model_name": "DescriptionStyleModel",
          "model_module_version": "1.5.0",
          "state": {
            "_view_name": "StyleView",
            "_model_name": "DescriptionStyleModel",
            "description_width": "",
            "_view_module": "@jupyter-widgets/base",
            "_model_module_version": "1.5.0",
            "_view_count": null,
            "_view_module_version": "1.2.0",
            "_model_module": "@jupyter-widgets/controls"
          }
        },
        "d1ac84eb7d274f5e94bd340d80c6a0e9": {
          "model_module": "@jupyter-widgets/base",
          "model_name": "LayoutModel",
          "model_module_version": "1.2.0",
          "state": {
            "_view_name": "LayoutView",
            "grid_template_rows": null,
            "right": null,
            "justify_content": null,
            "_view_module": "@jupyter-widgets/base",
            "overflow": null,
            "_model_module_version": "1.2.0",
            "_view_count": null,
            "flex_flow": null,
            "width": null,
            "min_width": null,
            "border": null,
            "align_items": null,
            "bottom": null,
            "_model_module": "@jupyter-widgets/base",
            "top": null,
            "grid_column": null,
            "overflow_y": null,
            "overflow_x": null,
            "grid_auto_flow": null,
            "grid_area": null,
            "grid_template_columns": null,
            "flex": null,
            "_model_name": "LayoutModel",
            "justify_items": null,
            "grid_row": null,
            "max_height": null,
            "align_content": null,
            "visibility": null,
            "align_self": null,
            "height": null,
            "min_height": null,
            "padding": null,
            "grid_auto_rows": null,
            "grid_gap": null,
            "max_width": null,
            "order": null,
            "_view_module_version": "1.2.0",
            "grid_template_areas": null,
            "object_position": null,
            "object_fit": null,
            "grid_auto_columns": null,
            "margin": null,
            "display": null,
            "left": null
          }
        },
        "07451b2080644a20966f6454bf323682": {
          "model_module": "@jupyter-widgets/controls",
          "model_name": "ProgressStyleModel",
          "model_module_version": "1.5.0",
          "state": {
            "_view_name": "StyleView",
            "_model_name": "ProgressStyleModel",
            "description_width": "",
            "_view_module": "@jupyter-widgets/base",
            "_model_module_version": "1.5.0",
            "_view_count": null,
            "_view_module_version": "1.2.0",
            "bar_color": null,
            "_model_module": "@jupyter-widgets/controls"
          }
        },
        "dbc5fc3bd29a4e2c97b846574c7bc387": {
          "model_module": "@jupyter-widgets/base",
          "model_name": "LayoutModel",
          "model_module_version": "1.2.0",
          "state": {
            "_view_name": "LayoutView",
            "grid_template_rows": null,
            "right": null,
            "justify_content": null,
            "_view_module": "@jupyter-widgets/base",
            "overflow": null,
            "_model_module_version": "1.2.0",
            "_view_count": null,
            "flex_flow": null,
            "width": null,
            "min_width": null,
            "border": null,
            "align_items": null,
            "bottom": null,
            "_model_module": "@jupyter-widgets/base",
            "top": null,
            "grid_column": null,
            "overflow_y": null,
            "overflow_x": null,
            "grid_auto_flow": null,
            "grid_area": null,
            "grid_template_columns": null,
            "flex": null,
            "_model_name": "LayoutModel",
            "justify_items": null,
            "grid_row": null,
            "max_height": null,
            "align_content": null,
            "visibility": null,
            "align_self": null,
            "height": null,
            "min_height": null,
            "padding": null,
            "grid_auto_rows": null,
            "grid_gap": null,
            "max_width": null,
            "order": null,
            "_view_module_version": "1.2.0",
            "grid_template_areas": null,
            "object_position": null,
            "object_fit": null,
            "grid_auto_columns": null,
            "margin": null,
            "display": null,
            "left": null
          }
        },
        "60383886b87c4ba1afb60eaa29f0742b": {
          "model_module": "@jupyter-widgets/controls",
          "model_name": "DescriptionStyleModel",
          "model_module_version": "1.5.0",
          "state": {
            "_view_name": "StyleView",
            "_model_name": "DescriptionStyleModel",
            "description_width": "",
            "_view_module": "@jupyter-widgets/base",
            "_model_module_version": "1.5.0",
            "_view_count": null,
            "_view_module_version": "1.2.0",
            "_model_module": "@jupyter-widgets/controls"
          }
        },
        "aa091580db12496da66c33c8948c742f": {
          "model_module": "@jupyter-widgets/base",
          "model_name": "LayoutModel",
          "model_module_version": "1.2.0",
          "state": {
            "_view_name": "LayoutView",
            "grid_template_rows": null,
            "right": null,
            "justify_content": null,
            "_view_module": "@jupyter-widgets/base",
            "overflow": null,
            "_model_module_version": "1.2.0",
            "_view_count": null,
            "flex_flow": null,
            "width": null,
            "min_width": null,
            "border": null,
            "align_items": null,
            "bottom": null,
            "_model_module": "@jupyter-widgets/base",
            "top": null,
            "grid_column": null,
            "overflow_y": null,
            "overflow_x": null,
            "grid_auto_flow": null,
            "grid_area": null,
            "grid_template_columns": null,
            "flex": null,
            "_model_name": "LayoutModel",
            "justify_items": null,
            "grid_row": null,
            "max_height": null,
            "align_content": null,
            "visibility": null,
            "align_self": null,
            "height": null,
            "min_height": null,
            "padding": null,
            "grid_auto_rows": null,
            "grid_gap": null,
            "max_width": null,
            "order": null,
            "_view_module_version": "1.2.0",
            "grid_template_areas": null,
            "object_position": null,
            "object_fit": null,
            "grid_auto_columns": null,
            "margin": null,
            "display": null,
            "left": null
          }
        }
      }
    }
  },
  "cells": [
    {
      "cell_type": "markdown",
      "metadata": {
        "id": "gOnqAgFSYd00"
      },
      "source": [
        "# **Proyek Akhir : Image Classification Model Deployment**"
      ],
      "id": "gOnqAgFSYd00"
    },
    {
      "cell_type": "markdown",
      "metadata": {
        "id": "3WtPZjapZFD6"
      },
      "source": [
        "# **DATA DIRI**\n",
        "\n",
        "* Nama      : Karlina Surya Witanto\n",
        "* ID        : M014V6051\n",
        "* PT        : Universitas Udayana\n",
        "* Email     : gabriella.linatan@gmail.com\n",
        "* Email SIB : m014v6051@dicoding.org"
      ],
      "id": "3WtPZjapZFD6"
    },
    {
      "cell_type": "code",
      "metadata": {
        "id": "composite-proof"
      },
      "source": [
        "import numpy as np\n",
        "import pandas as pd\n",
        "import os\n",
        "import cv2\n",
        "import datetime\n",
        "import matplotlib.pyplot as plt\n",
        "from tqdm.notebook import tqdm\n",
        "from sklearn.utils import class_weight, shuffle\n",
        "import tensorflow as tf\n",
        "from tensorflow.keras import applications\n",
        "from tensorflow.keras.optimizers import Adam,SGD\n",
        "from tensorflow.keras.utils import to_categorical\n",
        "from tensorflow.keras.models import Sequential, Model, load_model\n",
        "from tensorflow.keras.layers import Dropout, Flatten, Dense,Conv2D,MaxPooling2D\n",
        "from tensorflow.keras.preprocessing.image import ImageDataGenerator\n",
        "from tensorflow.keras.callbacks import ModelCheckpoint"
      ],
      "id": "composite-proof",
      "execution_count": 8,
      "outputs": []
    },
    {
      "cell_type": "code",
      "metadata": {
        "id": "HnRJ1N61TbQt"
      },
      "source": [
        "! pip install -q kaggle"
      ],
      "id": "HnRJ1N61TbQt",
      "execution_count": 9,
      "outputs": []
    },
    {
      "cell_type": "code",
      "metadata": {
        "id": "K_TeQbu3R3D7"
      },
      "source": [
        "!mkdir -p ~/.kaggle\n"
      ],
      "id": "K_TeQbu3R3D7",
      "execution_count": 10,
      "outputs": []
    },
    {
      "cell_type": "code",
      "metadata": {
        "id": "LGvIrhF1Wq3-"
      },
      "source": [
        "!cp kaggle.json ~/.kaggle/\n"
      ],
      "id": "LGvIrhF1Wq3-",
      "execution_count": 11,
      "outputs": []
    },
    {
      "cell_type": "code",
      "metadata": {
        "id": "cwrLa_M2Wr0E"
      },
      "source": [
        "!chmod 600 ~/.kaggle/kaggle.json"
      ],
      "id": "cwrLa_M2Wr0E",
      "execution_count": 12,
      "outputs": []
    },
    {
      "cell_type": "code",
      "metadata": {
        "colab": {
          "base_uri": "https://localhost:8080/"
        },
        "id": "yLhkb4lHSC18",
        "outputId": "6cd8f34c-6f40-40d8-d796-abb2ecbde18c"
      },
      "source": [
        "!kaggle datasets download -d alessiocorrado99/animals10\n"
      ],
      "id": "yLhkb4lHSC18",
      "execution_count": 13,
      "outputs": [
        {
          "output_type": "stream",
          "name": "stdout",
          "text": [
            "Downloading animals10.zip to /content\n",
            " 98% 571M/586M [00:03<00:00, 167MB/s]\n",
            "100% 586M/586M [00:03<00:00, 158MB/s]\n"
          ]
        }
      ]
    },
    {
      "cell_type": "code",
      "metadata": {
        "id": "Q-KWh0_yT6w9"
      },
      "source": [
        "import zipfile\n",
        " \n",
        "zip_ref = zipfile.ZipFile('/content/animals10.zip','r')\n",
        "zip_ref.extractall('/content/file')\n",
        "zip_ref.close()"
      ],
      "id": "Q-KWh0_yT6w9",
      "execution_count": 14,
      "outputs": []
    },
    {
      "cell_type": "code",
      "metadata": {
        "id": "YFkG8OrwURnW"
      },
      "source": [
        "!rm *.zip\n"
      ],
      "id": "YFkG8OrwURnW",
      "execution_count": 15,
      "outputs": []
    },
    {
      "cell_type": "code",
      "metadata": {
        "colab": {
          "base_uri": "https://localhost:8080/"
        },
        "id": "X5_rX8OXUUw7",
        "outputId": "9e838072-6fee-49dc-8a1c-5112c3cf6237"
      },
      "source": [
        "!pip install split_folders\n"
      ],
      "id": "X5_rX8OXUUw7",
      "execution_count": 16,
      "outputs": [
        {
          "output_type": "stream",
          "name": "stdout",
          "text": [
            "Collecting split_folders\n",
            "  Downloading split_folders-0.4.3-py3-none-any.whl (7.4 kB)\n",
            "Installing collected packages: split-folders\n",
            "Successfully installed split-folders-0.4.3\n"
          ]
        }
      ]
    },
    {
      "cell_type": "markdown",
      "metadata": {
        "id": "ZkewmjlRfyw8"
      },
      "source": [
        "# Loading Data From Local"
      ],
      "id": "ZkewmjlRfyw8"
    },
    {
      "cell_type": "code",
      "metadata": {
        "id": "conscious-quantum"
      },
      "source": [
        "foldernames = os.listdir('/content/file/raw-img')\n",
        "categories = []\n",
        "files = []\n",
        "for k, folder in enumerate(foldernames):\n",
        "    filenames = os.listdir(\"/content/file/raw-img/\" + folder);\n",
        "    for file in filenames:\n",
        "        files.append(\"/content/file/raw-img/\" + folder + \"/\" + file)\n",
        "        categories.append(k)\n",
        "        \n",
        "df = pd.DataFrame({\n",
        "    'filename': files,\n",
        "    'category': categories\n",
        "})\n",
        "train_df = pd.DataFrame(columns=['filename', 'category'])\n"
      ],
      "id": "conscious-quantum",
      "execution_count": 17,
      "outputs": []
    },
    {
      "cell_type": "code",
      "metadata": {
        "colab": {
          "base_uri": "https://localhost:8080/",
          "height": 419
        },
        "id": "abstract-tracy",
        "outputId": "c78300e3-2022-43e5-85e3-5b86d930aaa4"
      },
      "source": [
        "for i in range(3):\n",
        "    train_df = train_df.append(df[df.category == i].iloc[:1200,:])\n",
        "\n",
        "train_df.head()\n",
        "train_df = train_df.reset_index(drop=True)\n",
        "train_df"
      ],
      "id": "abstract-tracy",
      "execution_count": 18,
      "outputs": [
        {
          "output_type": "execute_result",
          "data": {
            "text/html": [
              "<div>\n",
              "<style scoped>\n",
              "    .dataframe tbody tr th:only-of-type {\n",
              "        vertical-align: middle;\n",
              "    }\n",
              "\n",
              "    .dataframe tbody tr th {\n",
              "        vertical-align: top;\n",
              "    }\n",
              "\n",
              "    .dataframe thead th {\n",
              "        text-align: right;\n",
              "    }\n",
              "</style>\n",
              "<table border=\"1\" class=\"dataframe\">\n",
              "  <thead>\n",
              "    <tr style=\"text-align: right;\">\n",
              "      <th></th>\n",
              "      <th>filename</th>\n",
              "      <th>category</th>\n",
              "    </tr>\n",
              "  </thead>\n",
              "  <tbody>\n",
              "    <tr>\n",
              "      <th>0</th>\n",
              "      <td>/content/file/raw-img/cavallo/OIP-u5myOAnI9X1w...</td>\n",
              "      <td>0</td>\n",
              "    </tr>\n",
              "    <tr>\n",
              "      <th>1</th>\n",
              "      <td>/content/file/raw-img/cavallo/OIP-5wH9vPk_DpqU...</td>\n",
              "      <td>0</td>\n",
              "    </tr>\n",
              "    <tr>\n",
              "      <th>2</th>\n",
              "      <td>/content/file/raw-img/cavallo/OIP-KT-tDe-ywWys...</td>\n",
              "      <td>0</td>\n",
              "    </tr>\n",
              "    <tr>\n",
              "      <th>3</th>\n",
              "      <td>/content/file/raw-img/cavallo/OIP-4HLihQd4NQsr...</td>\n",
              "      <td>0</td>\n",
              "    </tr>\n",
              "    <tr>\n",
              "      <th>4</th>\n",
              "      <td>/content/file/raw-img/cavallo/OIP-jKbtBe4c4_ty...</td>\n",
              "      <td>0</td>\n",
              "    </tr>\n",
              "    <tr>\n",
              "      <th>...</th>\n",
              "      <td>...</td>\n",
              "      <td>...</td>\n",
              "    </tr>\n",
              "    <tr>\n",
              "      <th>3595</th>\n",
              "      <td>/content/file/raw-img/scoiattolo/OIP-SELGUyWrd...</td>\n",
              "      <td>2</td>\n",
              "    </tr>\n",
              "    <tr>\n",
              "      <th>3596</th>\n",
              "      <td>/content/file/raw-img/scoiattolo/OIP-cgGgTTt1s...</td>\n",
              "      <td>2</td>\n",
              "    </tr>\n",
              "    <tr>\n",
              "      <th>3597</th>\n",
              "      <td>/content/file/raw-img/scoiattolo/OIP-J59IMu0Xv...</td>\n",
              "      <td>2</td>\n",
              "    </tr>\n",
              "    <tr>\n",
              "      <th>3598</th>\n",
              "      <td>/content/file/raw-img/scoiattolo/OIP-vEv83DoHn...</td>\n",
              "      <td>2</td>\n",
              "    </tr>\n",
              "    <tr>\n",
              "      <th>3599</th>\n",
              "      <td>/content/file/raw-img/scoiattolo/OIP-xSn8zdtlb...</td>\n",
              "      <td>2</td>\n",
              "    </tr>\n",
              "  </tbody>\n",
              "</table>\n",
              "<p>3600 rows × 2 columns</p>\n",
              "</div>"
            ],
            "text/plain": [
              "                                               filename category\n",
              "0     /content/file/raw-img/cavallo/OIP-u5myOAnI9X1w...        0\n",
              "1     /content/file/raw-img/cavallo/OIP-5wH9vPk_DpqU...        0\n",
              "2     /content/file/raw-img/cavallo/OIP-KT-tDe-ywWys...        0\n",
              "3     /content/file/raw-img/cavallo/OIP-4HLihQd4NQsr...        0\n",
              "4     /content/file/raw-img/cavallo/OIP-jKbtBe4c4_ty...        0\n",
              "...                                                 ...      ...\n",
              "3595  /content/file/raw-img/scoiattolo/OIP-SELGUyWrd...        2\n",
              "3596  /content/file/raw-img/scoiattolo/OIP-cgGgTTt1s...        2\n",
              "3597  /content/file/raw-img/scoiattolo/OIP-J59IMu0Xv...        2\n",
              "3598  /content/file/raw-img/scoiattolo/OIP-vEv83DoHn...        2\n",
              "3599  /content/file/raw-img/scoiattolo/OIP-xSn8zdtlb...        2\n",
              "\n",
              "[3600 rows x 2 columns]"
            ]
          },
          "metadata": {},
          "execution_count": 18
        }
      ]
    },
    {
      "cell_type": "code",
      "metadata": {
        "id": "reverse-agent"
      },
      "source": [
        "y = train_df['category']\n",
        "x = train_df['filename']\n",
        "y = train_df['category']\n",
        "\n",
        "x, y = shuffle(x, y, random_state=8)"
      ],
      "id": "reverse-agent",
      "execution_count": 19,
      "outputs": []
    },
    {
      "cell_type": "markdown",
      "metadata": {
        "id": "A_UdGlBIgVBu"
      },
      "source": [
        "# Resize Image"
      ],
      "id": "A_UdGlBIgVBu"
    },
    {
      "cell_type": "code",
      "metadata": {
        "colab": {
          "base_uri": "https://localhost:8080/",
          "height": 49,
          "referenced_widgets": [
            "15799191fd20437698eb7331b934dac0",
            "5bd99721ab3b4be89403b6fc4852a6b7",
            "e68d0ebcc2fe4ce7bc597fb81eae8541",
            "17439bf948ad4a93982889c9dfd97545",
            "c478a04fefb74fb19644ebcb61328341",
            "48f9e228d0274da78d1e970af03e499e",
            "d1ac84eb7d274f5e94bd340d80c6a0e9",
            "07451b2080644a20966f6454bf323682",
            "dbc5fc3bd29a4e2c97b846574c7bc387",
            "60383886b87c4ba1afb60eaa29f0742b",
            "aa091580db12496da66c33c8948c742f"
          ]
        },
        "id": "continent-temperature",
        "outputId": "7577015a-3b0b-45db-ee57-70e673ab0958"
      },
      "source": [
        "def centering_image(img):\n",
        "    size = [256,256]\n",
        "    \n",
        "    img_size = img.shape[:2]\n",
        "    \n",
        "    # centering\n",
        "    row = (size[1] - img_size[0]) // 2\n",
        "    col = (size[0] - img_size[1]) // 2\n",
        "    resized = np.zeros(list(size) + [img.shape[2]], dtype=np.uint8)\n",
        "    resized[row:(row + img.shape[0]), col:(col + img.shape[1])] = img\n",
        "\n",
        "    return resized\n",
        "\n",
        "images = []\n",
        "with tqdm(total=len(train_df)) as pbar:\n",
        "    for i, file_path in enumerate(train_df.filename.values):\n",
        "        #read image\n",
        "        img = cv2.imread(file_path)\n",
        "        img = cv2.cvtColor(img, cv2.COLOR_BGR2RGB)\n",
        "\n",
        "        #resize\n",
        "        if(img.shape[0] > img.shape[1]):\n",
        "            tile_size = (int(img.shape[1]*256/img.shape[0]),256)\n",
        "        else:\n",
        "            tile_size = (256, int(img.shape[0]*256/img.shape[1]))\n",
        "\n",
        "        #centering\n",
        "        img = centering_image(cv2.resize(img, dsize=tile_size))\n",
        "\n",
        "        #out put 224*224px \n",
        "        img = img[16:240, 16:240]\n",
        "        images.append(img)\n",
        "        pbar.update(1)\n",
        "\n",
        "images = np.array(images)"
      ],
      "id": "continent-temperature",
      "execution_count": 20,
      "outputs": [
        {
          "output_type": "display_data",
          "data": {
            "application/vnd.jupyter.widget-view+json": {
              "model_id": "15799191fd20437698eb7331b934dac0",
              "version_minor": 0,
              "version_major": 2
            },
            "text/plain": [
              "  0%|          | 0/3600 [00:00<?, ?it/s]"
            ]
          },
          "metadata": {}
        }
      ]
    },
    {
      "cell_type": "markdown",
      "metadata": {
        "id": "4fhe41-egzgY"
      },
      "source": [
        "# Splitting Data"
      ],
      "id": "4fhe41-egzgY"
    },
    {
      "cell_type": "code",
      "metadata": {
        "id": "heavy-government"
      },
      "source": [
        "data_num = len(y)\n",
        "random_index = np.random.permutation(data_num)\n",
        "\n",
        "x_shuffle = []\n",
        "y_shuffle = []\n",
        "for i in range(data_num):\n",
        "    x_shuffle.append(images[random_index[i]])\n",
        "    y_shuffle.append(y[random_index[i]])\n",
        "    \n",
        "x = np.array(x_shuffle) \n",
        "y = np.array(y_shuffle)\n",
        "split_val = int(round(0.2*len(y)))\n",
        "x_train = x[split_val:]\n",
        "y_train = y[split_val:]\n",
        "x_test = x[:split_val]\n",
        "y_test = y[:split_val]\n",
        "\n",
        "y_train = to_categorical(y_train)\n",
        "y_test = to_categorical(y_test)\n",
        "\n",
        "x_train = x_train.astype('float32')\n",
        "x_test = x_test.astype('float32')\n",
        "x_train /= 255\n",
        "x_test /= 255\n",
        "\n",
        "img_rows, img_cols, img_channel = 224, 224, 3\n",
        "name_animal = []\n",
        "for i in range(3):\n",
        "  path = train_df[train_df.category == i].values[2]\n",
        "  if path[0].split('/')[-2] == 'cavallo':\n",
        "      name_animal.append('horse')\n",
        "  elif path[0].split('/')[-2] == 'farfalla':\n",
        "      name_animal.append('butterfly')\n",
        "  elif path[0].split('/')[-2] == 'mucca':\n",
        "      name_animal.append('cow')\n"
      ],
      "id": "heavy-government",
      "execution_count": 21,
      "outputs": []
    },
    {
      "cell_type": "code",
      "metadata": {
        "colab": {
          "base_uri": "https://localhost:8080/"
        },
        "id": "streaming-canyon",
        "outputId": "280774d8-4251-4474-ab6d-ff8bae935116"
      },
      "source": [
        "print('x_train', x_train.shape)\n",
        "print('y_train', y_train.shape)\n",
        "print('x_test', x_test.shape)\n",
        "print('y_test', y_test.shape)"
      ],
      "id": "streaming-canyon",
      "execution_count": 22,
      "outputs": [
        {
          "output_type": "stream",
          "name": "stdout",
          "text": [
            "x_train (2880, 224, 224, 3)\n",
            "y_train (2880, 3)\n",
            "x_test (720, 224, 224, 3)\n",
            "y_test (720, 3)\n"
          ]
        }
      ]
    },
    {
      "cell_type": "markdown",
      "metadata": {
        "id": "L8IU8FR1g5LY"
      },
      "source": [
        "# Fixing data shape\n"
      ],
      "id": "L8IU8FR1g5LY"
    },
    {
      "cell_type": "code",
      "metadata": {
        "id": "quarterly-highland"
      },
      "source": [
        "img_shape=(img_rows, img_cols, img_channel)"
      ],
      "id": "quarterly-highland",
      "execution_count": 23,
      "outputs": []
    },
    {
      "cell_type": "markdown",
      "metadata": {
        "id": "qH_pt3ngg_cQ"
      },
      "source": [
        "# Building model"
      ],
      "id": "qH_pt3ngg_cQ"
    },
    {
      "cell_type": "code",
      "metadata": {
        "colab": {
          "base_uri": "https://localhost:8080/"
        },
        "id": "antique-count",
        "outputId": "00298d5b-e74a-4a78-9553-a01a75a07483"
      },
      "source": [
        "model = tf.keras.models.Sequential([\n",
        "      tf.keras.layers.Conv2D(64, (3,3), activation='relu', input_shape=img_shape),\n",
        "      tf.keras.layers.MaxPool2D(2,2),\n",
        "      tf.keras.layers.Conv2D(64, (3,3), activation='relu'),\n",
        "      tf.keras.layers.MaxPool2D(2,2),\n",
        "      tf.keras.layers.Conv2D(128, (3,3), activation='relu'),\n",
        "      tf.keras.layers.MaxPool2D(2,2),\n",
        "      tf.keras.layers.Conv2D(128, (3,3), activation='relu'),\n",
        "      tf.keras.layers.MaxPool2D(2,2),\n",
        "\n",
        "      tf.keras.layers.Flatten(),\n",
        "      tf.keras.layers.Dense(512, activation='relu'),\n",
        "      tf.keras.layers.Dropout(0.4),\n",
        "      tf.keras.layers.Dense(3, activation='softmax')\n",
        "])\n",
        "model.compile(optimizer=Adam(learning_rate=3e-4),\n",
        "              loss='categorical_crossentropy',\n",
        "              metrics=['accuracy'])\n",
        "\n",
        "model.summary()"
      ],
      "id": "antique-count",
      "execution_count": 24,
      "outputs": [
        {
          "output_type": "stream",
          "name": "stdout",
          "text": [
            "Model: \"sequential\"\n",
            "_________________________________________________________________\n",
            "Layer (type)                 Output Shape              Param #   \n",
            "=================================================================\n",
            "conv2d (Conv2D)              (None, 222, 222, 64)      1792      \n",
            "_________________________________________________________________\n",
            "max_pooling2d (MaxPooling2D) (None, 111, 111, 64)      0         \n",
            "_________________________________________________________________\n",
            "conv2d_1 (Conv2D)            (None, 109, 109, 64)      36928     \n",
            "_________________________________________________________________\n",
            "max_pooling2d_1 (MaxPooling2 (None, 54, 54, 64)        0         \n",
            "_________________________________________________________________\n",
            "conv2d_2 (Conv2D)            (None, 52, 52, 128)       73856     \n",
            "_________________________________________________________________\n",
            "max_pooling2d_2 (MaxPooling2 (None, 26, 26, 128)       0         \n",
            "_________________________________________________________________\n",
            "conv2d_3 (Conv2D)            (None, 24, 24, 128)       147584    \n",
            "_________________________________________________________________\n",
            "max_pooling2d_3 (MaxPooling2 (None, 12, 12, 128)       0         \n",
            "_________________________________________________________________\n",
            "flatten (Flatten)            (None, 18432)             0         \n",
            "_________________________________________________________________\n",
            "dense (Dense)                (None, 512)               9437696   \n",
            "_________________________________________________________________\n",
            "dropout (Dropout)            (None, 512)               0         \n",
            "_________________________________________________________________\n",
            "dense_1 (Dense)              (None, 3)                 1539      \n",
            "=================================================================\n",
            "Total params: 9,699,395\n",
            "Trainable params: 9,699,395\n",
            "Non-trainable params: 0\n",
            "_________________________________________________________________\n"
          ]
        }
      ]
    },
    {
      "cell_type": "markdown",
      "metadata": {
        "id": "qeE-SINthFu_"
      },
      "source": [
        "## Setting up parameter"
      ],
      "id": "qeE-SINthFu_"
    },
    {
      "cell_type": "code",
      "metadata": {
        "id": "abstract-switzerland"
      },
      "source": [
        "batch_size = 32\n",
        "epochs = 100\n",
        "\n",
        "train_datagen = ImageDataGenerator(\n",
        "        rotation_range=30, \n",
        "        width_shift_range=0.1,\n",
        "        height_shift_range=0.1, \n",
        "        horizontal_flip=True)\n",
        "train_datagen.fit(x_train)"
      ],
      "id": "abstract-switzerland",
      "execution_count": 25,
      "outputs": []
    },
    {
      "cell_type": "markdown",
      "metadata": {
        "id": "MQTDQFPkhKuI"
      },
      "source": [
        "# Creating callbacks function"
      ],
      "id": "MQTDQFPkhKuI"
    },
    {
      "cell_type": "code",
      "metadata": {
        "id": "adjustable-louisville"
      },
      "source": [
        "class myCallback(tf.keras.callbacks.Callback):\n",
        "  def on_epoch_end(self, epoch, logs={}):\n",
        "    if(logs.get('val_accuracy')>0.85) and (logs.get('accuracy')>0.85):\n",
        "      print('\\nAkurasi telah mencapai > 85%')\n",
        "      self.model.stop_training = True\n",
        "myCallbacks = myCallback()"
      ],
      "id": "adjustable-louisville",
      "execution_count": 26,
      "outputs": []
    },
    {
      "cell_type": "code",
      "metadata": {
        "id": "unique-boost"
      },
      "source": [
        "%load_ext tensorboard\n"
      ],
      "id": "unique-boost",
      "execution_count": 27,
      "outputs": []
    },
    {
      "cell_type": "code",
      "metadata": {
        "id": "helpful-report"
      },
      "source": [
        "log_dir = \"logs/fit/\" + datetime.datetime.now().strftime(\"%Y%m%d-%H%M%S\")\n"
      ],
      "id": "helpful-report",
      "execution_count": 28,
      "outputs": []
    },
    {
      "cell_type": "code",
      "metadata": {
        "id": "subsequent-leadership"
      },
      "source": [
        "tensorboard_callback = tf.keras.callbacks.TensorBoard(log_dir=log_dir, histogram_freq=1)\n"
      ],
      "id": "subsequent-leadership",
      "execution_count": 29,
      "outputs": []
    },
    {
      "cell_type": "markdown",
      "metadata": {
        "id": "4qgeMqb4hQG4"
      },
      "source": [
        "# Start training"
      ],
      "id": "4qgeMqb4hQG4"
    },
    {
      "cell_type": "code",
      "metadata": {
        "colab": {
          "base_uri": "https://localhost:8080/"
        },
        "id": "minus-abraham",
        "outputId": "947eb8d7-7839-4065-af24-8c8ecc95f3fa"
      },
      "source": [
        "history = model.fit(\n",
        "    train_datagen.flow(x_train, y_train, batch_size=batch_size),\n",
        "    epochs=epochs,\n",
        "    validation_data=(x_test, y_test),\n",
        "    callbacks=[myCallbacks, tensorboard_callback])"
      ],
      "id": "minus-abraham",
      "execution_count": 30,
      "outputs": [
        {
          "output_type": "stream",
          "name": "stdout",
          "text": [
            "Epoch 1/100\n",
            "90/90 [==============================] - 72s 430ms/step - loss: 0.9007 - accuracy: 0.5611 - val_loss: 0.8812 - val_accuracy: 0.6194\n",
            "Epoch 2/100\n",
            "90/90 [==============================] - 37s 409ms/step - loss: 0.6758 - accuracy: 0.7281 - val_loss: 0.5503 - val_accuracy: 0.7681\n",
            "Epoch 3/100\n",
            "90/90 [==============================] - 36s 404ms/step - loss: 0.5960 - accuracy: 0.7656 - val_loss: 0.8140 - val_accuracy: 0.6819\n",
            "Epoch 4/100\n",
            "90/90 [==============================] - 36s 400ms/step - loss: 0.5176 - accuracy: 0.7927 - val_loss: 0.6554 - val_accuracy: 0.7431\n",
            "Epoch 5/100\n",
            "90/90 [==============================] - 36s 399ms/step - loss: 0.4739 - accuracy: 0.8104 - val_loss: 0.5623 - val_accuracy: 0.7778\n",
            "Epoch 6/100\n",
            "90/90 [==============================] - 36s 401ms/step - loss: 0.4303 - accuracy: 0.8319 - val_loss: 0.4636 - val_accuracy: 0.8069\n",
            "Epoch 7/100\n",
            "90/90 [==============================] - 36s 399ms/step - loss: 0.4337 - accuracy: 0.8306 - val_loss: 0.4612 - val_accuracy: 0.8194\n",
            "Epoch 8/100\n",
            "90/90 [==============================] - 36s 404ms/step - loss: 0.3959 - accuracy: 0.8476 - val_loss: 0.3791 - val_accuracy: 0.8500\n",
            "Epoch 9/100\n",
            "90/90 [==============================] - 36s 399ms/step - loss: 0.4019 - accuracy: 0.8399 - val_loss: 0.3712 - val_accuracy: 0.8472\n",
            "Epoch 10/100\n",
            "90/90 [==============================] - 36s 401ms/step - loss: 0.3763 - accuracy: 0.8566 - val_loss: 0.4000 - val_accuracy: 0.8444\n",
            "Epoch 11/100\n",
            "90/90 [==============================] - 36s 401ms/step - loss: 0.3362 - accuracy: 0.8677 - val_loss: 0.3538 - val_accuracy: 0.8542\n",
            "\n",
            "Akurasi telah mencapai > 85%\n"
          ]
        }
      ]
    },
    {
      "cell_type": "markdown",
      "metadata": {
        "id": "w9aJZykthTu2"
      },
      "source": [
        "# Creating plot"
      ],
      "id": "w9aJZykthTu2"
    },
    {
      "cell_type": "code",
      "metadata": {
        "colab": {
          "base_uri": "https://localhost:8080/",
          "height": 295
        },
        "id": "prerequisite-establishment",
        "outputId": "43c1f706-91ae-4236-f4e9-427efcf72b5a"
      },
      "source": [
        "#print(\"CNN: Epochs={0:d}, Train accuracy={1:.5f}, Validation accuracy={2:.5f}\".format(epochs,history.history['accuracy'][epochs-1],history.history['val_accuracy'][epochs-1]))\n",
        "def show_plots(history):\n",
        "    \"\"\" Useful function to view plot of loss values & accuracies across the various epochs \"\"\"\n",
        "    loss_vals = history['loss']\n",
        "    val_loss_vals = history['val_loss']\n",
        "    epochs = range(1, len(history['accuracy'])+1)\n",
        "    \n",
        "    f, ax = plt.subplots(nrows=1,ncols=2,figsize=(16,4))\n",
        "    \n",
        "    # plot losses on ax[0]\n",
        "    ax[0].plot(epochs, loss_vals, color='navy',marker='o', linestyle=' ', label='Training Loss')\n",
        "    ax[0].plot(epochs, val_loss_vals, color='firebrick', marker='*', label='Validation Loss')\n",
        "    ax[0].set_title('Training & Validation Loss')\n",
        "    ax[0].set_xlabel('Epochs')\n",
        "    ax[0].set_ylabel('Loss')\n",
        "    ax[0].legend(loc='best')\n",
        "    ax[0].grid(True)\n",
        "    \n",
        "    # plot accuracies\n",
        "    acc_vals = history['accuracy']\n",
        "    val_acc_vals = history['val_accuracy']\n",
        "\n",
        "    ax[1].plot(epochs, acc_vals, color='navy', marker='o', ls=' ', label='Training Accuracy')\n",
        "    ax[1].plot(epochs, val_acc_vals, color='firebrick', marker='*', label='Validation Accuracy')\n",
        "    ax[1].set_title('Training & Validation Accuracy')\n",
        "    ax[1].set_xlabel('Epochs')\n",
        "    ax[1].set_ylabel('Accuracy')\n",
        "    ax[1].legend(loc='best')\n",
        "    ax[1].grid(True)\n",
        "    \n",
        "    plt.show()\n",
        "    plt.close()\n",
        "    \n",
        "    # delete locals from heap before exiting\n",
        "    del loss_vals, val_loss_vals, epochs, acc_vals, val_acc_vals\n",
        "show_plots(history.history)"
      ],
      "id": "prerequisite-establishment",
      "execution_count": 31,
      "outputs": [
        {
          "output_type": "display_data",
          "data": {
            "image/png": "[encoded data removed]",
            "text/plain": [
              "<Figure size 1152x288 with 2 Axes>"
            ]
          },
          "metadata": {
            "needs_background": "light"
          }
        }
      ]
    },
    {
      "cell_type": "code",
      "metadata": {
        "colab": {
          "base_uri": "https://localhost:8080/"
        },
        "id": "M_i8Au3oBKyG",
        "outputId": "4048ccb2-5948-4d95-b692-2871710df5f3"
      },
      "source": [
        "converter = tf.lite.TFLiteConverter.from_keras_model(model)\n",
        "tflite_model = converter.convert()"
      ],
      "id": "M_i8Au3oBKyG",
      "execution_count": 32,
      "outputs": [
        {
          "output_type": "stream",
          "name": "stdout",
          "text": [
            "INFO:tensorflow:Assets written to: /tmp/tmprc31aprw/assets\n"
          ]
        }
      ]
    },
    {
      "cell_type": "code",
      "metadata": {
        "id": "B7DYMRg5GQGf"
      },
      "source": [
        "with tf.io.gfile.GFile('model.tflite', 'wb') as f:\n",
        "  f.write(tflite_model)"
      ],
      "id": "B7DYMRg5GQGf",
      "execution_count": 33,
      "outputs": []
    }
  ]
}